{
 "cells": [
  {
   "cell_type": "markdown",
   "id": "5bf7014f",
   "metadata": {},
   "source": [
    "# Rock, Paper, Scissors"
   ]
  },
  {
   "cell_type": "code",
   "execution_count": 5,
   "id": "af65cf27",
   "metadata": {},
   "outputs": [
    {
     "name": "stdout",
     "output_type": "stream",
     "text": [
      "Choose one (rock, paper, scissors): rock\n",
      "\n",
      "You chose rock, and the computer chose rock.\n",
      "\n",
      "Both players selected rock. It's a tie!\n",
      "Play again? (y/n): y\n",
      "Choose one (rock, paper, scissors): scissors\n",
      "\n",
      "You chose scissors, and the computer chose rock.\n",
      "\n",
      "Rock smashes scissors! You lose.\n",
      "Play again? (y/n): y\n",
      "Choose one (rock, paper, scissors): paper\n",
      "\n",
      "You chose paper, and the computer chose scissors.\n",
      "\n",
      "Scissors cuts paper! You lose.\n",
      "Play again? (y/n): y\n",
      "Choose one (rock, paper, scissors): rock\n",
      "\n",
      "You chose rock, and the computer chose rock.\n",
      "\n",
      "Both players selected rock. It's a tie!\n",
      "Play again? (y/n): y\n",
      "Choose one (rock, paper, scissors): rock\n",
      "\n",
      "You chose rock, and the computer chose rock.\n",
      "\n",
      "Both players selected rock. It's a tie!\n",
      "Play again? (y/n): y\n",
      "Choose one (rock, paper, scissors): rock\n",
      "\n",
      "You chose rock, and the computer chose paper.\n",
      "\n",
      "Paper covers rock! You lose.\n",
      "Play again? (y/n): y\n",
      "Choose one (rock, paper, scissors): rock\n",
      "\n",
      "You chose rock, and the computer chose scissors.\n",
      "\n",
      "Rock smashes scissors! You win!\n",
      "Play again? (y/n): n\n"
     ]
    }
   ],
   "source": [
    "import random \n",
    "#import random allows the computer to generate a random choice\n",
    "\n",
    "while True:  \n",
    "    user_choice=input(\"Choose one (rock, paper, scissors): \")\n",
    "    possible_choices=[\"rock\",\"paper\",\"scissors\"]\n",
    "    computer_choice=random.choice(possible_choices)\n",
    "    print(f\"\\nYou chose {user_choice}, and the computer chose {computer_choice}.\\n\")\n",
    "#we use a while loop to allow the user to choose if they want to play again\n",
    "    \n",
    "    if user_choice == computer_choice:\n",
    "        print(f\"Both players selected {user_choice}. It's a tie!\")\n",
    "    elif user_choice == \"rock\":\n",
    "        if computer_choice == \"scissors\":\n",
    "            print(\"Rock smashes scissors! You win!\")\n",
    "        else:\n",
    "            print(\"Paper covers rock! You lose.\")\n",
    "    elif user_choice == \"paper\":\n",
    "        if computer_choice == \"rock\":\n",
    "            print(\"Paper covers rock! You win!\")\n",
    "        else:\n",
    "            print(\"Scissors cuts paper! You lose.\")\n",
    "    elif user_choice == \"scissors\":\n",
    "        if computer_choice == \"paper\":\n",
    "            print(\"Scissors cuts paper! You win!\")\n",
    "        else:\n",
    "            print(\"Rock smashes scissors! You lose.\")\n",
    "#the if/elif/else functions help determine who won and what to print \n",
    "\n",
    "    play_again=input(\"Play again? (y/n): \")\n",
    "    if play_again.lower()!= \"y\": #if the user types in anything but y for yes, the programming will break\n",
    "        break"
   ]
  },
  {
   "cell_type": "code",
   "execution_count": null,
   "id": "4d4cb7a9",
   "metadata": {},
   "outputs": [],
   "source": []
  }
 ],
 "metadata": {
  "kernelspec": {
   "display_name": "Python 3",
   "language": "python",
   "name": "python3"
  },
  "language_info": {
   "codemirror_mode": {
    "name": "ipython",
    "version": 3
   },
   "file_extension": ".py",
   "mimetype": "text/x-python",
   "name": "python",
   "nbconvert_exporter": "python",
   "pygments_lexer": "ipython3",
   "version": "3.8.8"
  }
 },
 "nbformat": 4,
 "nbformat_minor": 5
}
